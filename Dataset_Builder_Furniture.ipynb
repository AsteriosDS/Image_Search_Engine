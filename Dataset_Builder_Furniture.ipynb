{
 "cells": [
  {
   "cell_type": "code",
   "execution_count": null,
   "id": "82921209",
   "metadata": {},
   "outputs": [],
   "source": [
    "import requests\n",
    "from bs4 import BeautifulSoup\n",
    "from tqdm.notebook import tqdm\n",
    "import pandas as pd\n",
    "import numpy as np\n",
    "from selenium import webdriver\n",
    "import time\n",
    "import os\n",
    "import requests"
   ]
  },
  {
   "cell_type": "markdown",
   "id": "3bc64350",
   "metadata": {},
   "source": [
    "## Skroutz furnitures"
   ]
  },
  {
   "cell_type": "code",
   "execution_count": null,
   "id": "cd103cda",
   "metadata": {},
   "outputs": [],
   "source": [
    "# Set up Selenium WebDriver\n",
    "main_link = 'https://www.skroutz.gr/c/1114/living_room.html?o=furniture'\n",
    "driver = webdriver.Chrome()\n",
    "driver.get(main_link)\n",
    "\n",
    "# Get the page source from Selenium\n",
    "page_source = driver.page_source\n",
    "\n",
    "# Close the Selenium WebDriver\n",
    "driver.quit()\n",
    "\n",
    "# Parse the page source using Beautiful Soup\n",
    "soup = BeautifulSoup(page_source, \"html.parser\")"
   ]
  },
  {
   "cell_type": "code",
   "execution_count": null,
   "id": "7e534c6b",
   "metadata": {},
   "outputs": [],
   "source": [
    "# find all a elements that correspond to different kinds of living room furnitures\n",
    "a_elements = soup.find_all('a', href=lambda href: href and \".html?from=image_driven_subcats&o=furniture\" in href)\n",
    "\n",
    "# get their links  to loop over them later\n",
    "sub_links = ['https://www.skroutz.gr' + i['href'] for i in a_elements]"
   ]
  },
  {
   "cell_type": "code",
   "execution_count": null,
   "id": "7accb721",
   "metadata": {},
   "outputs": [],
   "source": [
    "sub_links"
   ]
  },
  {
   "cell_type": "markdown",
   "id": "7ec81c45",
   "metadata": {},
   "source": [
    "## Loop for each sub link"
   ]
  },
  {
   "cell_type": "code",
   "execution_count": null,
   "id": "ea4ec1e2",
   "metadata": {
    "scrolled": true
   },
   "outputs": [],
   "source": [
    "link_list = []\n",
    "for i in sub_links:\n",
    "    # Set up Selenium WebDriver\n",
    "    main_link = i\n",
    "    category = i.split('/')[-1].split('.')[0]\n",
    "    driver = webdriver.Chrome()\n",
    "    driver.get(main_link)\n",
    "\n",
    "    # Get the page source from Selenium\n",
    "    page_source = driver.page_source\n",
    "\n",
    "    # Close the Selenium WebDriver\n",
    "    driver.quit()\n",
    "\n",
    "    # Parse the page source using Beautiful Soup\n",
    "    soup = BeautifulSoup(page_source, \"html.parser\")\n",
    "    \n",
    "    # find max pages\n",
    "    a_elements = soup.find_all('a', href=lambda href: href and f\"{category}.html?o=furniture&page=\" in href)\n",
    "\n",
    "    # Extract the text from each <a> element\n",
    "    text_list = [int(a['href'].split('=')[2]) for a in a_elements if len(a)>0]\n",
    "    \n",
    "    max_pages = max(text_list)\n",
    "    print(max_pages)\n",
    "    \n",
    "    # replicate links\n",
    "    for j in range(1, int(max_pages) + 1):\n",
    "        \"\"\" the final for loop will be called on this list and \n",
    "        the webdriver will open and get the source\"\"\"\n",
    "        link_list.append(main_link + '&page='+ str(j))"
   ]
  },
  {
   "cell_type": "code",
   "execution_count": null,
   "id": "1dd2252f",
   "metadata": {},
   "outputs": [],
   "source": [
    "def get_data(x):\n",
    "\n",
    "    furns = pd.DataFrame()\n",
    "\n",
    "    for i in x:\n",
    "        try:\n",
    "            product_name = i.find('a', class_='js-sku-link')['title']\n",
    "        except:\n",
    "            product_name = np.nan\n",
    "        try: \n",
    "            img = 'https:' + i.find('img', {'alt':product_name})['src']\n",
    "        except:\n",
    "            img = np.nan\n",
    "\n",
    "        temp = pd.DataFrame([{\n",
    "            'product_name': product_name,\n",
    "            'product_image': img,\n",
    "            'category': category\n",
    "        }])\n",
    "\n",
    "        furns = pd.concat([furns, temp], ignore_index=True)\n",
    "\n",
    "    return furns"
   ]
  },
  {
   "cell_type": "code",
   "execution_count": null,
   "id": "36cee6c7",
   "metadata": {
    "scrolled": true
   },
   "outputs": [],
   "source": [
    "furns = pd.DataFrame()\n",
    "for i in tqdm(link_list):\n",
    "    # Set up Selenium WebDriver\n",
    "    main_link = i\n",
    "    category = i.split('/')[-1].split('.')[0]\n",
    "    driver = webdriver.Chrome()\n",
    "    driver.get(main_link)\n",
    "\n",
    "    # Get the page source from Selenium\n",
    "    page_source = driver.page_source\n",
    "\n",
    "    # Close the Selenium WebDriver\n",
    "    driver.quit()\n",
    "\n",
    "    # Parse the page source using Beautiful Soup\n",
    "    soup = BeautifulSoup(page_source, \"html.parser\")\n",
    "    \n",
    "    #define row element for looping inside every link\n",
    "    results = soup.select('li.cf.card')\n",
    "    \n",
    "    temp = pd.concat([get_data(results)])\n",
    "    furns = pd.concat([furns, temp], ignore_index=True)\n",
    "    print(furns.shape[0])"
   ]
  },
  {
   "cell_type": "code",
   "execution_count": null,
   "id": "4270d74c",
   "metadata": {},
   "outputs": [],
   "source": [
    "cat_map = {\n",
    "    'living_room_small_tables': 'small_table',\n",
    "    'kanapedes': 'sofa',\n",
    "    'vivlothikes': 'bookcase',\n",
    "    'polithrones' : 'armchair',\n",
    "    'epiplo-tv' : 'tv-set',\n",
    "    'Suntheta-Saloniou' : 'composites',\n",
    "    'Vitrines-Saloniou' : 'showcases',\n",
    "    'living_room_sets' : 'living_room_sets',\n",
    "    'anaklintra' : 'recliners'\n",
    "}"
   ]
  },
  {
   "cell_type": "code",
   "execution_count": null,
   "id": "41aa5723",
   "metadata": {},
   "outputs": [],
   "source": [
    "furns['category'] = furns['category'].map(cat_map)"
   ]
  },
  {
   "cell_type": "code",
   "execution_count": null,
   "id": "34ab9713",
   "metadata": {},
   "outputs": [],
   "source": [
    "furns.drop_duplicates().reset_index(drop=True).to_csv('furns.csv',index=False)"
   ]
  },
  {
   "cell_type": "markdown",
   "id": "62858237",
   "metadata": {},
   "source": [
    "## Download the images"
   ]
  },
  {
   "cell_type": "code",
   "execution_count": null,
   "id": "ba2fc7eb",
   "metadata": {},
   "outputs": [],
   "source": [
    "# Define the target number of images per category\n",
    "target_per_category = 6000\n",
    "\n",
    "# Initialize counters for each category\n",
    "category_counters = {\n",
    "    \"sofa\": 0,\n",
    "    \"small_table\": 0\n",
    "}\n",
    "\n",
    "# Loop through the dataset\n",
    "for i in c.values:\n",
    "    image_url = i[1]\n",
    "    category = i[2]\n",
    "\n",
    "   # Check if the category is not \"sofas\" or \"small_tables\"\n",
    "    if category not in [\"sofa\", \"small_table\"]:\n",
    "        continue\n",
    "\n",
    "    # Check if the category counter has reached the target\n",
    "    if category_counters[category] >= target_per_category:\n",
    "        continue\n",
    "\n",
    "    # Create a folder for the category if it doesn't exist\n",
    "    category_folder = os.path.join(\"images\", category)\n",
    "    if not os.path.exists(category_folder):\n",
    "        os.makedirs(category_folder)\n",
    "\n",
    "    # Extract the filename\n",
    "    filename = f\"{category}_{category_counters[category]}.jpeg\"\n",
    "\n",
    "    # Download the image and save it to the category folder\n",
    "    response = requests.get(image_url)\n",
    "    image_path = os.path.join(category_folder, filename)\n",
    "    with open(image_path, \"wb\") as f:\n",
    "        f.write(response.content)\n",
    "\n",
    "    # Increment the category counter\n",
    "    category_counters[category] += 1\n",
    "\n",
    "    print(f\"Image downloaded: {image_path}\")\n",
    "    time.sleep(np.random.randint(0,5))\n",
    "    \n",
    "    # Check if the target has been reached for all categories\n",
    "    if all(count >= target_per_category for count in category_counters.values()):\n",
    "        break"
   ]
  }
 ],
 "metadata": {
  "kernelspec": {
   "display_name": "Python 3 (ipykernel)",
   "language": "python",
   "name": "python3"
  },
  "language_info": {
   "codemirror_mode": {
    "name": "ipython",
    "version": 3
   },
   "file_extension": ".py",
   "mimetype": "text/x-python",
   "name": "python",
   "nbconvert_exporter": "python",
   "pygments_lexer": "ipython3",
   "version": "3.8.10"
  }
 },
 "nbformat": 4,
 "nbformat_minor": 5
}
